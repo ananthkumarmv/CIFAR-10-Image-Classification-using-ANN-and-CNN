{
 "cells": [
  {
   "cell_type": "code",
   "execution_count": 1,
   "id": "9b65f1f8",
   "metadata": {},
   "outputs": [],
   "source": [
    "import numpy as np\n",
    "import matplotlib.pyplot as plt\n",
    "import tensorflow as tf\n",
    "from tensorflow.keras import datasets, layers, models"
   ]
  },
  {
   "cell_type": "code",
   "execution_count": 4,
   "id": "47dc903a",
   "metadata": {
    "scrolled": true
   },
   "outputs": [
    {
     "name": "stdout",
     "output_type": "stream",
     "text": [
      "A local file was found, but it seems to be incomplete or outdated because the auto file hash does not match the original value of 6d958be074577803d12ecdefd02955f39262c83c16fe9348329d7fe0b5c001ce so we will re-download the data.\n",
      "Downloading data from https://www.cs.toronto.edu/~kriz/cifar-10-python.tar.gz\n",
      "170498071/170498071 [==============================] - 56s 0us/step\n"
     ]
    }
   ],
   "source": [
    "(X_train, Y_train), (X_test, Y_test) = datasets.cifar10.load_data()"
   ]
  },
  {
   "cell_type": "code",
   "execution_count": 5,
   "id": "58236f88",
   "metadata": {},
   "outputs": [
    {
     "name": "stdout",
     "output_type": "stream",
     "text": [
      "(50000, 32, 32, 3)\n",
      "(50000, 1)\n",
      "(10000, 32, 32, 3)\n",
      "(10000, 1)\n"
     ]
    }
   ],
   "source": [
    "print(X_train.shape)\n",
    "print(Y_train.shape)\n",
    "print(X_test.shape)\n",
    "print(Y_test.shape)"
   ]
  },
  {
   "cell_type": "code",
   "execution_count": null,
   "id": "c1a67125",
   "metadata": {},
   "outputs": [],
   "source": []
  },
  {
   "cell_type": "code",
   "execution_count": 6,
   "id": "cfb1ae32",
   "metadata": {},
   "outputs": [
    {
     "data": {
      "text/plain": [
       "array([[6],\n",
       "       [9],\n",
       "       [9],\n",
       "       [4],\n",
       "       [1]], dtype=uint8)"
      ]
     },
     "execution_count": 6,
     "metadata": {},
     "output_type": "execute_result"
    }
   ],
   "source": [
    "Y_train[:5]"
   ]
  },
  {
   "cell_type": "code",
   "execution_count": null,
   "id": "70c23176",
   "metadata": {},
   "outputs": [],
   "source": []
  },
  {
   "cell_type": "code",
   "execution_count": 7,
   "id": "62ccd693",
   "metadata": {},
   "outputs": [
    {
     "data": {
      "text/plain": [
       "array([6, 9, 9, 4, 1], dtype=uint8)"
      ]
     },
     "execution_count": 7,
     "metadata": {},
     "output_type": "execute_result"
    }
   ],
   "source": [
    "Y_train = Y_train.reshape(-1,)\n",
    "Y_train[:5]"
   ]
  },
  {
   "cell_type": "code",
   "execution_count": null,
   "id": "968d3270",
   "metadata": {},
   "outputs": [],
   "source": []
  },
  {
   "cell_type": "code",
   "execution_count": 9,
   "id": "a87643ca",
   "metadata": {},
   "outputs": [],
   "source": [
    "classes = [\"airplane\", \"automobile\", \"bird\", \"cat\", \"deer\", \"dog\", \"frog\", \"horse\", \"ship\", \"truck\"]"
   ]
  },
  {
   "cell_type": "code",
   "execution_count": 14,
   "id": "c2008c15",
   "metadata": {},
   "outputs": [],
   "source": [
    "def plot_sample(X, Y, index):\n",
    "    plt.figure(figsize = (15, 2))\n",
    "    plt.imshow(X[index])\n",
    "    plt.xlabel(classes[Y[index]])"
   ]
  },
  {
   "cell_type": "code",
   "execution_count": 15,
   "id": "bc3cadf2",
   "metadata": {},
   "outputs": [
    {
     "data": {
      "image/png": "[encoded data removed]",
      "text/plain": [
       "<Figure size 1080x144 with 1 Axes>"
      ]
     },
     "metadata": {
      "needs_background": "light"
     },
     "output_type": "display_data"
    }
   ],
   "source": [
    "plot_sample(X_train, Y_train, 0)"
   ]
  },
  {
   "cell_type": "code",
   "execution_count": 16,
   "id": "5e36b004",
   "metadata": {},
   "outputs": [
    {
     "data": {
      "image/png": "[encoded data removed]",
      "text/plain": [
       "<Figure size 1080x144 with 1 Axes>"
      ]
     },
     "metadata": {
      "needs_background": "light"
     },
     "output_type": "display_data"
    }
   ],
   "source": [
    "plot_sample(X_train, Y_train, 5)"
   ]
  },
  {
   "cell_type": "code",
   "execution_count": 17,
   "id": "9a00eb52",
   "metadata": {},
   "outputs": [
    {
     "data": {
      "image/png": "[encoded data removed]",
      "text/plain": [
       "<Figure size 1080x144 with 1 Axes>"
      ]
     },
     "metadata": {
      "needs_background": "light"
     },
     "output_type": "display_data"
    }
   ],
   "source": [
    "plot_sample(X_train, Y_train, 1)"
   ]
  },
  {
   "cell_type": "code",
   "execution_count": null,
   "id": "a06ac502",
   "metadata": {},
   "outputs": [],
   "source": []
  },
  {
   "cell_type": "markdown",
   "id": "bd4a9a35",
   "metadata": {},
   "source": [
    "# Normalizing"
   ]
  },
  {
   "cell_type": "code",
   "execution_count": 19,
   "id": "40d50dae",
   "metadata": {},
   "outputs": [],
   "source": [
    "X_train = X_train/255\n",
    "X_test = X_test/255"
   ]
  },
  {
   "cell_type": "code",
   "execution_count": null,
   "id": "cdd2ec41",
   "metadata": {},
   "outputs": [],
   "source": []
  },
  {
   "cell_type": "markdown",
   "id": "30915b88",
   "metadata": {},
   "source": [
    "# Training on ANN"
   ]
  },
  {
   "cell_type": "code",
   "execution_count": 20,
   "id": "1788719b",
   "metadata": {},
   "outputs": [],
   "source": [
    "ann = models.Sequential([\n",
    "    layers.Flatten(input_shape=(32, 32, 3)),\n",
    "    layers.Dense(3000, activation='relu'),\n",
    "    layers.Dense(1000, activation='relu'),\n",
    "    layers.Dense(10, activation='sigmoid')\n",
    "])"
   ]
  },
  {
   "cell_type": "code",
   "execution_count": null,
   "id": "72b6fe49",
   "metadata": {},
   "outputs": [],
   "source": []
  },
  {
   "cell_type": "markdown",
   "id": "fbe3ceb9",
   "metadata": {},
   "source": [
    "# Compiling the model"
   ]
  },
  {
   "cell_type": "code",
   "execution_count": 22,
   "id": "94435bd0",
   "metadata": {},
   "outputs": [],
   "source": [
    "ann.compile(optimizer='SGD',\n",
    "           loss='sparse_categorical_crossentropy',\n",
    "           metrics=['accuracy'])"
   ]
  },
  {
   "cell_type": "code",
   "execution_count": null,
   "id": "4617fae7",
   "metadata": {},
   "outputs": [],
   "source": []
  },
  {
   "cell_type": "markdown",
   "id": "028ed293",
   "metadata": {},
   "source": [
    "# Training the model"
   ]
  },
  {
   "cell_type": "code",
   "execution_count": 23,
   "id": "574b93c1",
   "metadata": {},
   "outputs": [
    {
     "name": "stdout",
     "output_type": "stream",
     "text": [
      "Epoch 1/5\n",
      "1563/1563 [==============================] - 80s 51ms/step - loss: 1.8083 - accuracy: 0.3557\n",
      "Epoch 2/5\n",
      "1563/1563 [==============================] - 73s 47ms/step - loss: 1.6207 - accuracy: 0.4288\n",
      "Epoch 3/5\n",
      "1563/1563 [==============================] - 69s 44ms/step - loss: 1.5398 - accuracy: 0.4569\n",
      "Epoch 4/5\n",
      "1563/1563 [==============================] - 70s 45ms/step - loss: 1.4816 - accuracy: 0.4785\n",
      "Epoch 5/5\n",
      "1563/1563 [==============================] - 80s 51ms/step - loss: 1.4316 - accuracy: 0.4950\n"
     ]
    },
    {
     "data": {
      "text/plain": [
       "<keras.callbacks.History at 0x1b292ee7b20>"
      ]
     },
     "execution_count": 23,
     "metadata": {},
     "output_type": "execute_result"
    }
   ],
   "source": [
    "ann.fit(X_train, Y_train, epochs=5)"
   ]
  },
  {
   "cell_type": "code",
   "execution_count": null,
   "id": "70446b22",
   "metadata": {},
   "outputs": [],
   "source": []
  },
  {
   "cell_type": "markdown",
   "id": "5a5944ee",
   "metadata": {},
   "source": [
    "# Evaluating the model"
   ]
  },
  {
   "cell_type": "code",
   "execution_count": 24,
   "id": "04183c6f",
   "metadata": {},
   "outputs": [
    {
     "name": "stdout",
     "output_type": "stream",
     "text": [
      "313/313 [==============================] - 3s 10ms/step - loss: 1.4370 - accuracy: 0.4895\n"
     ]
    },
    {
     "data": {
      "text/plain": [
       "[1.4369663000106812, 0.4894999861717224]"
      ]
     },
     "execution_count": 24,
     "metadata": {},
     "output_type": "execute_result"
    }
   ],
   "source": [
    "ann.evaluate(X_test, Y_test)"
   ]
  },
  {
   "cell_type": "code",
   "execution_count": null,
   "id": "878383bd",
   "metadata": {},
   "outputs": [],
   "source": []
  },
  {
   "cell_type": "code",
   "execution_count": 27,
   "id": "c53c6f96",
   "metadata": {},
   "outputs": [
    {
     "name": "stdout",
     "output_type": "stream",
     "text": [
      "313/313 [==============================] - 3s 10ms/step\n",
      "Classification Report: \n",
      "               precision    recall  f1-score   support\n",
      "\n",
      "           0       0.62      0.47      0.53      1000\n",
      "           1       0.58      0.64      0.61      1000\n",
      "           2       0.41      0.24      0.30      1000\n",
      "           3       0.38      0.28      0.32      1000\n",
      "           4       0.41      0.48      0.44      1000\n",
      "           5       0.46      0.30      0.37      1000\n",
      "           6       0.39      0.73      0.51      1000\n",
      "           7       0.66      0.45      0.53      1000\n",
      "           8       0.56      0.69      0.62      1000\n",
      "           9       0.50      0.62      0.56      1000\n",
      "\n",
      "    accuracy                           0.49     10000\n",
      "   macro avg       0.50      0.49      0.48     10000\n",
      "weighted avg       0.50      0.49      0.48     10000\n",
      "\n"
     ]
    }
   ],
   "source": [
    "from sklearn.metrics import confusion_matrix, classification_report\n",
    "\n",
    "Y_pred = ann.predict(X_test)\n",
    "Y_pred_classes = [np.argmax(element) for element in Y_pred]\n",
    "\n",
    "print('Classification Report: \\n', classification_report(Y_test, Y_pred_classes))"
   ]
  },
  {
   "cell_type": "code",
   "execution_count": null,
   "id": "11874691",
   "metadata": {},
   "outputs": [],
   "source": []
  },
  {
   "cell_type": "code",
   "execution_count": null,
   "id": "746f0eef",
   "metadata": {},
   "outputs": [],
   "source": []
  },
  {
   "cell_type": "markdown",
   "id": "89242a71",
   "metadata": {},
   "source": [
    "# Training on CNN"
   ]
  },
  {
   "cell_type": "code",
   "execution_count": 29,
   "id": "7aaac7b2",
   "metadata": {},
   "outputs": [],
   "source": [
    "cnn = models.Sequential([\n",
    "    layers.Conv2D(filters=32, kernel_size=(3,3), activation='relu', input_shape=(32,32,3)),\n",
    "    layers.MaxPooling2D((2,2)),\n",
    "    \n",
    "    layers.Conv2D(filters=64, kernel_size=(3,3), activation='relu'),\n",
    "    layers.MaxPooling2D((2,2)),\n",
    "    \n",
    "    #dense layer\n",
    "    layers.Flatten(),\n",
    "    layers.Dense(64, activation='relu'),\n",
    "    layers.Dense(10, activation='softmax')\n",
    "])"
   ]
  },
  {
   "cell_type": "code",
   "execution_count": 30,
   "id": "f7f1d469",
   "metadata": {},
   "outputs": [],
   "source": [
    "cnn.compile(optimizer='adam',\n",
    "           loss='sparse_categorical_crossentropy',\n",
    "           metrics=['accuracy'])"
   ]
  },
  {
   "cell_type": "code",
   "execution_count": 31,
   "id": "13cbf72b",
   "metadata": {},
   "outputs": [
    {
     "name": "stdout",
     "output_type": "stream",
     "text": [
      "Epoch 1/10\n",
      "1563/1563 [==============================] - 49s 31ms/step - loss: 1.4617 - accuracy: 0.4792\n",
      "Epoch 2/10\n",
      "1563/1563 [==============================] - 46s 29ms/step - loss: 1.1058 - accuracy: 0.6120\n",
      "Epoch 3/10\n",
      "1563/1563 [==============================] - 44s 28ms/step - loss: 0.9845 - accuracy: 0.6567\n",
      "Epoch 4/10\n",
      "1563/1563 [==============================] - 44s 28ms/step - loss: 0.9059 - accuracy: 0.6848\n",
      "Epoch 5/10\n",
      "1563/1563 [==============================] - 39s 25ms/step - loss: 0.8457 - accuracy: 0.7064\n",
      "Epoch 6/10\n",
      "1563/1563 [==============================] - 40s 26ms/step - loss: 0.7882 - accuracy: 0.7244\n",
      "Epoch 7/10\n",
      "1563/1563 [==============================] - 39s 25ms/step - loss: 0.7390 - accuracy: 0.7422\n",
      "Epoch 8/10\n",
      "1563/1563 [==============================] - 43s 27ms/step - loss: 0.6985 - accuracy: 0.7562\n",
      "Epoch 9/10\n",
      "1563/1563 [==============================] - 41s 26ms/step - loss: 0.6586 - accuracy: 0.7713\n",
      "Epoch 10/10\n",
      "1563/1563 [==============================] - 43s 27ms/step - loss: 0.6213 - accuracy: 0.7832\n"
     ]
    },
    {
     "data": {
      "text/plain": [
       "<keras.callbacks.History at 0x1b2f1e7f910>"
      ]
     },
     "execution_count": 31,
     "metadata": {},
     "output_type": "execute_result"
    }
   ],
   "source": [
    "cnn.fit(X_train, Y_train, epochs=10)"
   ]
  },
  {
   "cell_type": "code",
   "execution_count": null,
   "id": "4caf3485",
   "metadata": {},
   "outputs": [],
   "source": []
  },
  {
   "cell_type": "code",
   "execution_count": 32,
   "id": "b1bcc54a",
   "metadata": {},
   "outputs": [
    {
     "name": "stdout",
     "output_type": "stream",
     "text": [
      "313/313 [==============================] - 3s 8ms/step - loss: 0.9707 - accuracy: 0.6771\n"
     ]
    },
    {
     "data": {
      "text/plain": [
       "[0.9706978797912598, 0.6771000027656555]"
      ]
     },
     "execution_count": 32,
     "metadata": {},
     "output_type": "execute_result"
    }
   ],
   "source": [
    "cnn.evaluate(X_test, Y_test)"
   ]
  },
  {
   "cell_type": "code",
   "execution_count": null,
   "id": "0949aa1c",
   "metadata": {},
   "outputs": [],
   "source": []
  },
  {
   "cell_type": "code",
   "execution_count": 33,
   "id": "0f7303c9",
   "metadata": {},
   "outputs": [
    {
     "data": {
      "text/plain": [
       "array([3, 8, 8, 0, 6], dtype=uint8)"
      ]
     },
     "execution_count": 33,
     "metadata": {},
     "output_type": "execute_result"
    }
   ],
   "source": [
    "Y_test = Y_test.reshape(-1,)\n",
    "Y_test[:5]"
   ]
  },
  {
   "cell_type": "code",
   "execution_count": 40,
   "id": "d1e25e91",
   "metadata": {},
   "outputs": [
    {
     "data": {
      "image/png": "[encoded data removed]",
      "text/plain": [
       "<Figure size 1080x144 with 1 Axes>"
      ]
     },
     "metadata": {
      "needs_background": "light"
     },
     "output_type": "display_data"
    }
   ],
   "source": [
    "plot_sample(X_test, Y_test, 1)"
   ]
  },
  {
   "cell_type": "code",
   "execution_count": 42,
   "id": "1e917682",
   "metadata": {},
   "outputs": [
    {
     "name": "stdout",
     "output_type": "stream",
     "text": [
      "313/313 [==============================] - 2s 7ms/step\n"
     ]
    },
    {
     "data": {
      "text/plain": [
       "array([[2.3865142e-04, 2.0400659e-04, 8.2237395e-03, 9.2151642e-01,\n",
       "        2.0749222e-03, 3.6024913e-02, 4.0193349e-03, 1.6170510e-03,\n",
       "        2.6013952e-02, 6.6943794e-05],\n",
       "       [1.9348263e-03, 7.4534258e-03, 3.4186855e-06, 4.0482897e-05,\n",
       "        5.0051790e-06, 4.1901453e-07, 2.6703835e-06, 6.0089673e-07,\n",
       "        9.9036282e-01, 1.9629428e-04],\n",
       "       [5.6389659e-03, 4.5444801e-01, 6.7272322e-04, 1.1784837e-02,\n",
       "        1.6375082e-03, 4.0749433e-03, 3.0533815e-04, 1.0257682e-02,\n",
       "        8.0002412e-02, 4.3117750e-01],\n",
       "       [6.2554091e-01, 1.1029413e-02, 4.6243459e-02, 4.8126083e-02,\n",
       "        1.1426500e-01, 5.4887342e-03, 3.1551037e-02, 1.4006641e-03,\n",
       "        8.1233226e-02, 3.5121486e-02],\n",
       "       [6.9839216e-06, 7.4451978e-05, 3.1718180e-02, 1.0888158e-01,\n",
       "        4.0666172e-01, 1.1560488e-03, 4.5142856e-01, 4.9975730e-05,\n",
       "        2.1982392e-05, 5.3181691e-07]], dtype=float32)"
      ]
     },
     "execution_count": 42,
     "metadata": {},
     "output_type": "execute_result"
    }
   ],
   "source": [
    "Y_pred = cnn.predict(X_test)\n",
    "Y_pred[:5]"
   ]
  },
  {
   "cell_type": "code",
   "execution_count": 44,
   "id": "d7584750",
   "metadata": {},
   "outputs": [
    {
     "data": {
      "text/plain": [
       "8"
      ]
     },
     "execution_count": 44,
     "metadata": {},
     "output_type": "execute_result"
    }
   ],
   "source": [
    "np.argmax(Y_pred[1])"
   ]
  },
  {
   "cell_type": "code",
   "execution_count": 46,
   "id": "bf78f023",
   "metadata": {},
   "outputs": [
    {
     "name": "stdout",
     "output_type": "stream",
     "text": [
      "Predicted as ship.\n"
     ]
    },
    {
     "data": {
      "image/png": "[encoded data removed]",
      "text/plain": [
       "<Figure size 1080x144 with 1 Axes>"
      ]
     },
     "metadata": {
      "needs_background": "light"
     },
     "output_type": "display_data"
    }
   ],
   "source": [
    "plot_sample(X_test, Y_test, 1)\n",
    "print(\"Predicted as {}.\".format(classes[np.argmax(Y_pred[1])]))"
   ]
  },
  {
   "cell_type": "code",
   "execution_count": null,
   "id": "f17b9525",
   "metadata": {},
   "outputs": [],
   "source": []
  },
  {
   "cell_type": "code",
   "execution_count": 47,
   "id": "1f8aa1cc",
   "metadata": {},
   "outputs": [],
   "source": [
    "Y_classes = [np.argmax(i) for i in Y_pred]"
   ]
  },
  {
   "cell_type": "code",
   "execution_count": 49,
   "id": "e043b7e6",
   "metadata": {},
   "outputs": [
    {
     "name": "stdout",
     "output_type": "stream",
     "text": [
      "[3, 8, 1, 0, 6]\n"
     ]
    }
   ],
   "source": [
    "Y_classes[0:5]"
   ]
  },
  {
   "cell_type": "code",
   "execution_count": 53,
   "id": "9053e2ef",
   "metadata": {},
   "outputs": [
    {
     "data": {
      "text/plain": [
       "array([3, 8, 8, 0, 6], dtype=uint8)"
      ]
     },
     "execution_count": 53,
     "metadata": {},
     "output_type": "execute_result"
    }
   ],
   "source": [
    "Y_test[0:5]"
   ]
  },
  {
   "cell_type": "code",
   "execution_count": null,
   "id": "a7c91992",
   "metadata": {},
   "outputs": [],
   "source": []
  },
  {
   "cell_type": "code",
   "execution_count": 55,
   "id": "2e8ecbb9",
   "metadata": {},
   "outputs": [
    {
     "data": {
      "image/png": "[encoded data removed]",
      "text/plain": [
       "<Figure size 1080x144 with 1 Axes>"
      ]
     },
     "metadata": {
      "needs_background": "light"
     },
     "output_type": "display_data"
    }
   ],
   "source": [
    "plot_sample(X_train, Y_train, 2)"
   ]
  },
  {
   "cell_type": "code",
   "execution_count": 57,
   "id": "e4fcc4d7",
   "metadata": {},
   "outputs": [
    {
     "data": {
      "text/plain": [
       "'automobile'"
      ]
     },
     "execution_count": 57,
     "metadata": {},
     "output_type": "execute_result"
    }
   ],
   "source": [
    "classes[Y_classes[2]]"
   ]
  },
  {
   "cell_type": "code",
   "execution_count": null,
   "id": "aa51daf1",
   "metadata": {},
   "outputs": [],
   "source": []
  },
  {
   "cell_type": "code",
   "execution_count": 58,
   "id": "37031227",
   "metadata": {},
   "outputs": [
    {
     "name": "stdout",
     "output_type": "stream",
     "text": [
      "Classification Report: \n",
      "               precision    recall  f1-score   support\n",
      "\n",
      "           0       0.78      0.69      0.73      1000\n",
      "           1       0.90      0.68      0.78      1000\n",
      "           2       0.53      0.66      0.59      1000\n",
      "           3       0.47      0.53      0.50      1000\n",
      "           4       0.72      0.50      0.59      1000\n",
      "           5       0.54      0.63      0.58      1000\n",
      "           6       0.80      0.71      0.76      1000\n",
      "           7       0.71      0.76      0.73      1000\n",
      "           8       0.83      0.76      0.79      1000\n",
      "           9       0.67      0.86      0.75      1000\n",
      "\n",
      "    accuracy                           0.68     10000\n",
      "   macro avg       0.70      0.68      0.68     10000\n",
      "weighted avg       0.70      0.68      0.68     10000\n",
      "\n"
     ]
    }
   ],
   "source": [
    "print('Classification Report: \\n', classification_report(Y_test, Y_classes))"
   ]
  },
  {
   "cell_type": "code",
   "execution_count": null,
   "id": "1f4087a6",
   "metadata": {},
   "outputs": [],
   "source": []
  }
 ],
 "metadata": {
  "kernelspec": {
   "display_name": "Python 3 (ipykernel)",
   "language": "python",
   "name": "python3"
  },
  "language_info": {
   "codemirror_mode": {
    "name": "ipython",
    "version": 3
   },
   "file_extension": ".py",
   "mimetype": "text/x-python",
   "name": "python",
   "nbconvert_exporter": "python",
   "pygments_lexer": "ipython3",
   "version": "3.9.12"
  }
 },
 "nbformat": 4,
 "nbformat_minor": 5
}
